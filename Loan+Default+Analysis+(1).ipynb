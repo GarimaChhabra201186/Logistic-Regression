{
 "cells": [
  {
   "cell_type": "markdown",
   "metadata": {},
   "source": [
    "# <b> Problem Statement </b>\n",
    "\n",
    "\n",
    "You work as a Business Analytics Consultant at the Bank of Corporate.The bank was witnessing slower than usual growth in its book of business for the most recent quarter in 2018. The bank provides financial services/products such as savings accounts, current accounts, debit cards, etc. to its customer. The data suggested that it was the home loan business of the bank that was hit by a major loss. Now, loans are the core business of banks. The main profit comes directly from the loan’s interest. The head of the Home Loan business asked the heads of the Sales, Operations, Risk and Analytics teams to investigate and identify the root causes for the slowing growth and solve the problem. A business like selling Home Loans can grow or shrink based on several factors like demand or supply side. Some of the reasons are:\n",
    "\n",
    "- <b> Demand Side: </b> Are interest rates high?\n",
    "- <b> Demand Side: </b> Are there any macro economic reasons, such as recession or low salary growth or inflation?\n",
    "- <b> Supply Side: </b> Are new and attractive housing projects not available in the markets being served?\n",
    "- <b> Supply Side: </b> Have real estate prices shot up making homes unaffordable, relatively speaking?\n",
    "- <b> Competitor Side: </b> Are we losing customers to our competition? Is our competition also facing lower growth?\n",
    "\n",
    "\n",
    "\n",
    "The team found out that the credit risk was in abnormal standards and the default loan rates were high. So what do you mean by default loans and credit risk?\n",
    "\n",
    "<b> Deafult loans : </b> <br>\n",
    "Default is the failure to repay a loan according to the terms agreed to in the promissory note. For most federal student loans, you will default if you have not made a payment in more than 270 days.\n",
    "\n",
    "<b> Credit risk : </b> <br>\n",
    "It is understood simply as the risk a bank takes while lending out money to borrowers. They might default and fail to repay the dues in time and these results in losses to the bank. \n",
    "\n",
    "## <b> So, what do banks do then? </b> <br>\n",
    "They need to manage their credit risks. The goal of credit risk management in banks is to maintain credit risk exposure within proper and acceptable parameters. It is the practice of mitigating losses by understanding the adequacy of a bank’s capital and loan loss reserves at any given time. For this, banks not only need to manage the entire portfolio but also individual credits.\n",
    "\n",
    "## <b> Measures taken </b> <br>\n",
    "So in 2019, the bank came up with a project to build a \"Credit risk estimate model\" for its home loan branch.The loan should be granted after an intensive process of verification and validation. The dataset (provided below) contains the information about all the customers who were contacted during this year and were provided loans based on various parameters. The \"Credit risk estimate model\" need to be cost-efficient so that the bank not only decreases their credit risk but also increase the total profit.\n",
    "\n",
    "\n",
    "## <b> Business objective </b> <br>\n",
    "\n",
    "Your aim is to build the \"Credit risk estimate model\" to classify new loans availed as \"Low Risk\", \"High Risk\" and \"Medium Risk\". This will help the bank to sanction loans to \"Low Risk\" customers, following up with the latest information/data for the \"Medium Risk\" customers and reject the loan approval for \"High Risk\" customers."
   ]
  },
  {
   "cell_type": "markdown",
   "metadata": {},
   "source": [
    "## <b> Read the dataset"
   ]
  },
  {
   "cell_type": "code",
   "execution_count": 1,
   "metadata": {},
   "outputs": [
    {
     "data": {
      "text/html": [
       "<div>\n",
       "<style scoped>\n",
       "    .dataframe tbody tr th:only-of-type {\n",
       "        vertical-align: middle;\n",
       "    }\n",
       "\n",
       "    .dataframe tbody tr th {\n",
       "        vertical-align: top;\n",
       "    }\n",
       "\n",
       "    .dataframe thead th {\n",
       "        text-align: right;\n",
       "    }\n",
       "</style>\n",
       "<table border=\"1\" class=\"dataframe\">\n",
       "  <thead>\n",
       "    <tr style=\"text-align: right;\">\n",
       "      <th></th>\n",
       "      <th>id</th>\n",
       "      <th>loan_amnt</th>\n",
       "      <th>funded_amnt</th>\n",
       "      <th>int_rate</th>\n",
       "      <th>installment</th>\n",
       "      <th>emp_length</th>\n",
       "      <th>annual_inc</th>\n",
       "      <th>loan_status</th>\n",
       "    </tr>\n",
       "  </thead>\n",
       "  <tbody>\n",
       "    <tr>\n",
       "      <th>0</th>\n",
       "      <td>1077501</td>\n",
       "      <td>5000</td>\n",
       "      <td>5000</td>\n",
       "      <td>10.65</td>\n",
       "      <td>162.87</td>\n",
       "      <td>10</td>\n",
       "      <td>24000.0</td>\n",
       "      <td>Low Risk</td>\n",
       "    </tr>\n",
       "    <tr>\n",
       "      <th>1</th>\n",
       "      <td>1077430</td>\n",
       "      <td>2500</td>\n",
       "      <td>2500</td>\n",
       "      <td>15.27</td>\n",
       "      <td>59.83</td>\n",
       "      <td>1</td>\n",
       "      <td>30000.0</td>\n",
       "      <td>High Risk</td>\n",
       "    </tr>\n",
       "    <tr>\n",
       "      <th>2</th>\n",
       "      <td>1077175</td>\n",
       "      <td>2400</td>\n",
       "      <td>2400</td>\n",
       "      <td>15.96</td>\n",
       "      <td>84.33</td>\n",
       "      <td>10</td>\n",
       "      <td>12252.0</td>\n",
       "      <td>Low Risk</td>\n",
       "    </tr>\n",
       "    <tr>\n",
       "      <th>3</th>\n",
       "      <td>1076863</td>\n",
       "      <td>10000</td>\n",
       "      <td>10000</td>\n",
       "      <td>13.49</td>\n",
       "      <td>339.31</td>\n",
       "      <td>10</td>\n",
       "      <td>49200.0</td>\n",
       "      <td>Low Risk</td>\n",
       "    </tr>\n",
       "    <tr>\n",
       "      <th>4</th>\n",
       "      <td>1075358</td>\n",
       "      <td>3000</td>\n",
       "      <td>3000</td>\n",
       "      <td>12.69</td>\n",
       "      <td>67.79</td>\n",
       "      <td>1</td>\n",
       "      <td>80000.0</td>\n",
       "      <td>Medium Risk</td>\n",
       "    </tr>\n",
       "  </tbody>\n",
       "</table>\n",
       "</div>"
      ],
      "text/plain": [
       "        id  loan_amnt  funded_amnt  int_rate  installment  emp_length  \\\n",
       "0  1077501       5000         5000     10.65       162.87          10   \n",
       "1  1077430       2500         2500     15.27        59.83           1   \n",
       "2  1077175       2400         2400     15.96        84.33          10   \n",
       "3  1076863      10000        10000     13.49       339.31          10   \n",
       "4  1075358       3000         3000     12.69        67.79           1   \n",
       "\n",
       "   annual_inc  loan_status  \n",
       "0     24000.0     Low Risk  \n",
       "1     30000.0    High Risk  \n",
       "2     12252.0     Low Risk  \n",
       "3     49200.0     Low Risk  \n",
       "4     80000.0  Medium Risk  "
      ]
     },
     "execution_count": 1,
     "metadata": {},
     "output_type": "execute_result"
    }
   ],
   "source": [
    "#Import the libraries\n",
    "import pandas as pd\n",
    "import numpy as np\n",
    "\n",
    "#Load the loan dataset\n",
    "df = pd.read_csv(r\"C:\\Users\\chhab\\Downloads\\loan2+(1).csv\")\n",
    "#Details of the dataset\n",
    "df.head()"
   ]
  },
  {
   "cell_type": "code",
   "execution_count": 2,
   "metadata": {},
   "outputs": [
    {
     "name": "stdout",
     "output_type": "stream",
     "text": [
      "<class 'pandas.core.frame.DataFrame'>\n",
      "RangeIndex: 38642 entries, 0 to 38641\n",
      "Data columns (total 8 columns):\n",
      " #   Column       Non-Null Count  Dtype  \n",
      "---  ------       --------------  -----  \n",
      " 0   id           38642 non-null  int64  \n",
      " 1   loan_amnt    38642 non-null  int64  \n",
      " 2   funded_amnt  38642 non-null  int64  \n",
      " 3   int_rate     38642 non-null  float64\n",
      " 4   installment  38642 non-null  float64\n",
      " 5   emp_length   38642 non-null  int64  \n",
      " 6   annual_inc   38642 non-null  float64\n",
      " 7   loan_status  38642 non-null  object \n",
      "dtypes: float64(3), int64(4), object(1)\n",
      "memory usage: 2.4+ MB\n"
     ]
    }
   ],
   "source": [
    "df.info()"
   ]
  },
  {
   "cell_type": "markdown",
   "metadata": {},
   "source": [
    "The dataset has the following columns: </b>\n",
    "\n",
    "<b> id : </b>Transaction ID use to identify each transaction uniquely <br>\n",
    "<b> loan_amnt : </b> Loan amount that was requested by the customer <br>\n",
    "<b> funded_amnt : </b>Amount that was sanctioned by the bank <br>\n",
    "<b> int_rate : </b> Interest rate offered on the loan amount <br>\n",
    "<b> installment : </b>Amount of money paid during each installment <br>\n",
    "<b> emp_length :  </b> Work experience (employment length of the customer)  <br>\n",
    "<b> annual_inc : </b>What is the annual income of the customer<br>\n",
    "<b> loan_status : </b> Classified as whether it is \"High Risk\", \"Low Risk\" and \"Medium Risk\" <br>"
   ]
  },
  {
   "cell_type": "code",
   "execution_count": 4,
   "metadata": {},
   "outputs": [
    {
     "data": {
      "text/html": [
       "<div>\n",
       "<style scoped>\n",
       "    .dataframe tbody tr th:only-of-type {\n",
       "        vertical-align: middle;\n",
       "    }\n",
       "\n",
       "    .dataframe tbody tr th {\n",
       "        vertical-align: top;\n",
       "    }\n",
       "\n",
       "    .dataframe thead th {\n",
       "        text-align: right;\n",
       "    }\n",
       "</style>\n",
       "<table border=\"1\" class=\"dataframe\">\n",
       "  <thead>\n",
       "    <tr style=\"text-align: right;\">\n",
       "      <th></th>\n",
       "      <th>count</th>\n",
       "      <th>mean</th>\n",
       "      <th>std</th>\n",
       "      <th>min</th>\n",
       "      <th>25%</th>\n",
       "      <th>50%</th>\n",
       "      <th>75%</th>\n",
       "      <th>max</th>\n",
       "    </tr>\n",
       "  </thead>\n",
       "  <tbody>\n",
       "    <tr>\n",
       "      <th>id</th>\n",
       "      <td>38642.0</td>\n",
       "      <td>681040.355391</td>\n",
       "      <td>211304.549803</td>\n",
       "      <td>54734.00</td>\n",
       "      <td>513435.0000</td>\n",
       "      <td>662770.50</td>\n",
       "      <td>836491.2500</td>\n",
       "      <td>1077501.00</td>\n",
       "    </tr>\n",
       "    <tr>\n",
       "      <th>loan_amnt</th>\n",
       "      <td>38642.0</td>\n",
       "      <td>11291.615988</td>\n",
       "      <td>7462.136215</td>\n",
       "      <td>500.00</td>\n",
       "      <td>5500.0000</td>\n",
       "      <td>10000.00</td>\n",
       "      <td>15000.0000</td>\n",
       "      <td>35000.00</td>\n",
       "    </tr>\n",
       "    <tr>\n",
       "      <th>funded_amnt</th>\n",
       "      <td>38642.0</td>\n",
       "      <td>11017.101211</td>\n",
       "      <td>7193.038828</td>\n",
       "      <td>500.00</td>\n",
       "      <td>5500.0000</td>\n",
       "      <td>9950.00</td>\n",
       "      <td>15000.0000</td>\n",
       "      <td>35000.00</td>\n",
       "    </tr>\n",
       "    <tr>\n",
       "      <th>int_rate</th>\n",
       "      <td>38642.0</td>\n",
       "      <td>12.052427</td>\n",
       "      <td>3.716705</td>\n",
       "      <td>5.42</td>\n",
       "      <td>9.3200</td>\n",
       "      <td>11.86</td>\n",
       "      <td>14.5900</td>\n",
       "      <td>24.59</td>\n",
       "    </tr>\n",
       "    <tr>\n",
       "      <th>installment</th>\n",
       "      <td>38642.0</td>\n",
       "      <td>326.760477</td>\n",
       "      <td>209.143908</td>\n",
       "      <td>15.69</td>\n",
       "      <td>168.4425</td>\n",
       "      <td>282.83</td>\n",
       "      <td>434.3975</td>\n",
       "      <td>1305.19</td>\n",
       "    </tr>\n",
       "    <tr>\n",
       "      <th>emp_length</th>\n",
       "      <td>38642.0</td>\n",
       "      <td>5.092050</td>\n",
       "      <td>3.408338</td>\n",
       "      <td>1.00</td>\n",
       "      <td>2.0000</td>\n",
       "      <td>4.00</td>\n",
       "      <td>9.0000</td>\n",
       "      <td>10.00</td>\n",
       "    </tr>\n",
       "    <tr>\n",
       "      <th>annual_inc</th>\n",
       "      <td>38642.0</td>\n",
       "      <td>69608.277211</td>\n",
       "      <td>64253.202240</td>\n",
       "      <td>4000.00</td>\n",
       "      <td>41400.0000</td>\n",
       "      <td>60000.00</td>\n",
       "      <td>83199.9900</td>\n",
       "      <td>6000000.00</td>\n",
       "    </tr>\n",
       "  </tbody>\n",
       "</table>\n",
       "</div>"
      ],
      "text/plain": [
       "               count           mean            std       min          25%  \\\n",
       "id           38642.0  681040.355391  211304.549803  54734.00  513435.0000   \n",
       "loan_amnt    38642.0   11291.615988    7462.136215    500.00    5500.0000   \n",
       "funded_amnt  38642.0   11017.101211    7193.038828    500.00    5500.0000   \n",
       "int_rate     38642.0      12.052427       3.716705      5.42       9.3200   \n",
       "installment  38642.0     326.760477     209.143908     15.69     168.4425   \n",
       "emp_length   38642.0       5.092050       3.408338      1.00       2.0000   \n",
       "annual_inc   38642.0   69608.277211   64253.202240   4000.00   41400.0000   \n",
       "\n",
       "                   50%          75%         max  \n",
       "id           662770.50  836491.2500  1077501.00  \n",
       "loan_amnt     10000.00   15000.0000    35000.00  \n",
       "funded_amnt    9950.00   15000.0000    35000.00  \n",
       "int_rate         11.86      14.5900       24.59  \n",
       "installment     282.83     434.3975     1305.19  \n",
       "emp_length        4.00       9.0000       10.00  \n",
       "annual_inc    60000.00   83199.9900  6000000.00  "
      ]
     },
     "execution_count": 4,
     "metadata": {},
     "output_type": "execute_result"
    }
   ],
   "source": [
    "#Check the details of the dataset\n",
    "df.describe().T"
   ]
  },
  {
   "cell_type": "code",
   "execution_count": 5,
   "metadata": {},
   "outputs": [
    {
     "data": {
      "text/plain": [
       "loan_status\n",
       "Low Risk       32145\n",
       "High Risk       5399\n",
       "Medium Risk     1098\n",
       "Name: count, dtype: int64"
      ]
     },
     "execution_count": 5,
     "metadata": {},
     "output_type": "execute_result"
    }
   ],
   "source": [
    "# Distribution of the target variable\n",
    "df['loan_status'].value_counts()"
   ]
  },
  {
   "cell_type": "markdown",
   "metadata": {},
   "source": [
    "## <b> Data Cleaning </b>"
   ]
  },
  {
   "cell_type": "code",
   "execution_count": 6,
   "metadata": {},
   "outputs": [
    {
     "data": {
      "text/plain": [
       "id             0\n",
       "loan_amnt      0\n",
       "funded_amnt    0\n",
       "int_rate       0\n",
       "installment    0\n",
       "emp_length     0\n",
       "annual_inc     0\n",
       "loan_status    0\n",
       "dtype: int64"
      ]
     },
     "execution_count": 6,
     "metadata": {},
     "output_type": "execute_result"
    }
   ],
   "source": [
    "#Check for null values\n",
    "df.isnull().sum()"
   ]
  },
  {
   "cell_type": "code",
   "execution_count": 8,
   "metadata": {},
   "outputs": [
    {
     "data": {
      "text/plain": [
       "0"
      ]
     },
     "execution_count": 8,
     "metadata": {},
     "output_type": "execute_result"
    }
   ],
   "source": [
    "#Check for duplicate values\n",
    "df.duplicated().sum()"
   ]
  },
  {
   "cell_type": "markdown",
   "metadata": {},
   "source": [
    "## <b> Feature Creation </b>\n",
    "<b> funded_amnt: </b> Percentage of amount sanctioned compared to the total loan amount. Higher the value, it states that the bank is positive in lending the loan to the customer. <br>\n",
    "<b> incToloan_perc: </b> Percentage of annual income when compared to the loan amount. Higher the value it states that the customer is more likely to pay back without defaulting."
   ]
  },
  {
   "cell_type": "code",
   "execution_count": 10,
   "metadata": {},
   "outputs": [],
   "source": [
    "# Adding new variables  \n",
    "# fund_perc variable represents the ratio of funded amount wrt loan amount\n",
    "df['fund_perc'] = df['funded_amnt']/df['loan_amnt']\n",
    "#incToloan_perc variable represent the ratio of annula income wrt loan amount\n",
    "df['incToloan_perc'] = df['annual_inc']/df['loan_amnt']"
   ]
  },
  {
   "cell_type": "code",
   "execution_count": 14,
   "metadata": {},
   "outputs": [
    {
     "data": {
      "text/html": [
       "<div>\n",
       "<style scoped>\n",
       "    .dataframe tbody tr th:only-of-type {\n",
       "        vertical-align: middle;\n",
       "    }\n",
       "\n",
       "    .dataframe tbody tr th {\n",
       "        vertical-align: top;\n",
       "    }\n",
       "\n",
       "    .dataframe thead th {\n",
       "        text-align: right;\n",
       "    }\n",
       "</style>\n",
       "<table border=\"1\" class=\"dataframe\">\n",
       "  <thead>\n",
       "    <tr style=\"text-align: right;\">\n",
       "      <th></th>\n",
       "      <th>count</th>\n",
       "      <th>mean</th>\n",
       "      <th>std</th>\n",
       "      <th>min</th>\n",
       "      <th>25%</th>\n",
       "      <th>50%</th>\n",
       "      <th>75%</th>\n",
       "      <th>max</th>\n",
       "    </tr>\n",
       "  </thead>\n",
       "  <tbody>\n",
       "    <tr>\n",
       "      <th>id</th>\n",
       "      <td>38642.0</td>\n",
       "      <td>681040.355391</td>\n",
       "      <td>211304.549803</td>\n",
       "      <td>54734.000000</td>\n",
       "      <td>513435.0000</td>\n",
       "      <td>662770.500000</td>\n",
       "      <td>836491.250000</td>\n",
       "      <td>1.077501e+06</td>\n",
       "    </tr>\n",
       "    <tr>\n",
       "      <th>loan_amnt</th>\n",
       "      <td>38642.0</td>\n",
       "      <td>11291.615988</td>\n",
       "      <td>7462.136215</td>\n",
       "      <td>500.000000</td>\n",
       "      <td>5500.0000</td>\n",
       "      <td>10000.000000</td>\n",
       "      <td>15000.000000</td>\n",
       "      <td>3.500000e+04</td>\n",
       "    </tr>\n",
       "    <tr>\n",
       "      <th>funded_amnt</th>\n",
       "      <td>38642.0</td>\n",
       "      <td>11017.101211</td>\n",
       "      <td>7193.038828</td>\n",
       "      <td>500.000000</td>\n",
       "      <td>5500.0000</td>\n",
       "      <td>9950.000000</td>\n",
       "      <td>15000.000000</td>\n",
       "      <td>3.500000e+04</td>\n",
       "    </tr>\n",
       "    <tr>\n",
       "      <th>int_rate</th>\n",
       "      <td>38642.0</td>\n",
       "      <td>12.052427</td>\n",
       "      <td>3.716705</td>\n",
       "      <td>5.420000</td>\n",
       "      <td>9.3200</td>\n",
       "      <td>11.860000</td>\n",
       "      <td>14.590000</td>\n",
       "      <td>2.459000e+01</td>\n",
       "    </tr>\n",
       "    <tr>\n",
       "      <th>installment</th>\n",
       "      <td>38642.0</td>\n",
       "      <td>326.760477</td>\n",
       "      <td>209.143908</td>\n",
       "      <td>15.690000</td>\n",
       "      <td>168.4425</td>\n",
       "      <td>282.830000</td>\n",
       "      <td>434.397500</td>\n",
       "      <td>1.305190e+03</td>\n",
       "    </tr>\n",
       "    <tr>\n",
       "      <th>emp_length</th>\n",
       "      <td>38642.0</td>\n",
       "      <td>5.092050</td>\n",
       "      <td>3.408338</td>\n",
       "      <td>1.000000</td>\n",
       "      <td>2.0000</td>\n",
       "      <td>4.000000</td>\n",
       "      <td>9.000000</td>\n",
       "      <td>1.000000e+01</td>\n",
       "    </tr>\n",
       "    <tr>\n",
       "      <th>annual_inc</th>\n",
       "      <td>38642.0</td>\n",
       "      <td>69608.277211</td>\n",
       "      <td>64253.202240</td>\n",
       "      <td>4000.000000</td>\n",
       "      <td>41400.0000</td>\n",
       "      <td>60000.000000</td>\n",
       "      <td>83199.990000</td>\n",
       "      <td>6.000000e+06</td>\n",
       "    </tr>\n",
       "    <tr>\n",
       "      <th>fund_perc</th>\n",
       "      <td>38642.0</td>\n",
       "      <td>0.985571</td>\n",
       "      <td>0.070317</td>\n",
       "      <td>0.101250</td>\n",
       "      <td>1.0000</td>\n",
       "      <td>1.000000</td>\n",
       "      <td>1.000000</td>\n",
       "      <td>1.000000e+00</td>\n",
       "    </tr>\n",
       "    <tr>\n",
       "      <th>incToloan_perc</th>\n",
       "      <td>38642.0</td>\n",
       "      <td>8.915950</td>\n",
       "      <td>13.845454</td>\n",
       "      <td>1.204819</td>\n",
       "      <td>4.0000</td>\n",
       "      <td>6.066667</td>\n",
       "      <td>10.016699</td>\n",
       "      <td>1.266667e+03</td>\n",
       "    </tr>\n",
       "  </tbody>\n",
       "</table>\n",
       "</div>"
      ],
      "text/plain": [
       "                  count           mean            std           min  \\\n",
       "id              38642.0  681040.355391  211304.549803  54734.000000   \n",
       "loan_amnt       38642.0   11291.615988    7462.136215    500.000000   \n",
       "funded_amnt     38642.0   11017.101211    7193.038828    500.000000   \n",
       "int_rate        38642.0      12.052427       3.716705      5.420000   \n",
       "installment     38642.0     326.760477     209.143908     15.690000   \n",
       "emp_length      38642.0       5.092050       3.408338      1.000000   \n",
       "annual_inc      38642.0   69608.277211   64253.202240   4000.000000   \n",
       "fund_perc       38642.0       0.985571       0.070317      0.101250   \n",
       "incToloan_perc  38642.0       8.915950      13.845454      1.204819   \n",
       "\n",
       "                        25%            50%            75%           max  \n",
       "id              513435.0000  662770.500000  836491.250000  1.077501e+06  \n",
       "loan_amnt         5500.0000   10000.000000   15000.000000  3.500000e+04  \n",
       "funded_amnt       5500.0000    9950.000000   15000.000000  3.500000e+04  \n",
       "int_rate             9.3200      11.860000      14.590000  2.459000e+01  \n",
       "installment        168.4425     282.830000     434.397500  1.305190e+03  \n",
       "emp_length           2.0000       4.000000       9.000000  1.000000e+01  \n",
       "annual_inc       41400.0000   60000.000000   83199.990000  6.000000e+06  \n",
       "fund_perc            1.0000       1.000000       1.000000  1.000000e+00  \n",
       "incToloan_perc       4.0000       6.066667      10.016699  1.266667e+03  "
      ]
     },
     "execution_count": 14,
     "metadata": {},
     "output_type": "execute_result"
    }
   ],
   "source": [
    "# Understanding distribution of all the numerical variables in dataset\n",
    "df.describe().T"
   ]
  },
  {
   "cell_type": "code",
   "execution_count": 15,
   "metadata": {},
   "outputs": [
    {
     "data": {
      "text/plain": [
       "Index(['id', 'loan_amnt', 'funded_amnt', 'int_rate', 'installment',\n",
       "       'emp_length', 'annual_inc', 'loan_status', 'fund_perc',\n",
       "       'incToloan_perc'],\n",
       "      dtype='object')"
      ]
     },
     "execution_count": 15,
     "metadata": {},
     "output_type": "execute_result"
    }
   ],
   "source": [
    "#column names\n",
    "df.columns"
   ]
  },
  {
   "cell_type": "code",
   "execution_count": 20,
   "metadata": {},
   "outputs": [
    {
     "data": {
      "text/plain": [
       "loan_status\n",
       "Low Risk       32145\n",
       "High Risk       5399\n",
       "Medium Risk     1098\n",
       "Name: count, dtype: int64"
      ]
     },
     "execution_count": 20,
     "metadata": {},
     "output_type": "execute_result"
    }
   ],
   "source": [
    "df['loan_status'].value_counts()"
   ]
  },
  {
   "cell_type": "markdown",
   "metadata": {},
   "source": [
    "## <b> Train-Test Split"
   ]
  },
  {
   "cell_type": "code",
   "execution_count": 23,
   "metadata": {},
   "outputs": [],
   "source": [
    "# choosing all the numerical variables as independent variables (classifier can only take numerical input)\n",
    "# dropping two variable funded_amnt as we have created new variable transformation based on it \n",
    "X = df.select_dtypes(np.number).drop(['id','funded_amnt'],axis=1)\n",
    "\n",
    "#Dependent variable representing status of the loan\n",
    "Y = df['loan_status']\n",
    "\n",
    "#splitting the dataset in train and test datasets using a split ratio of 70:30\n",
    "from sklearn.model_selection import train_test_split\n",
    "X_train,X_test,y_train,y_test = train_test_split(X,Y,train_size=0.7,random_state=10)\n",
    "\n",
    "# standardizing all the variables using standard scaler\n",
    "from sklearn.preprocessing import StandardScaler\n",
    "scaler = StandardScaler()\n",
    "X_train_scaled = scaler.fit_transform(X_train)\n",
    "X_test_scaled = scaler.transform(X_test)"
   ]
  },
  {
   "cell_type": "code",
   "execution_count": 39,
   "metadata": {},
   "outputs": [
    {
     "data": {
      "text/html": [
       "<div>\n",
       "<style scoped>\n",
       "    .dataframe tbody tr th:only-of-type {\n",
       "        vertical-align: middle;\n",
       "    }\n",
       "\n",
       "    .dataframe tbody tr th {\n",
       "        vertical-align: top;\n",
       "    }\n",
       "\n",
       "    .dataframe thead th {\n",
       "        text-align: right;\n",
       "    }\n",
       "</style>\n",
       "<table border=\"1\" class=\"dataframe\">\n",
       "  <thead>\n",
       "    <tr style=\"text-align: right;\">\n",
       "      <th></th>\n",
       "      <th>loan_amnt</th>\n",
       "      <th>int_rate</th>\n",
       "      <th>installment</th>\n",
       "      <th>emp_length</th>\n",
       "      <th>annual_inc</th>\n",
       "      <th>fund_perc</th>\n",
       "      <th>incToloan_perc</th>\n",
       "    </tr>\n",
       "  </thead>\n",
       "  <tbody>\n",
       "    <tr>\n",
       "      <th>7368</th>\n",
       "      <td>35000</td>\n",
       "      <td>10.59</td>\n",
       "      <td>1139.08</td>\n",
       "      <td>10</td>\n",
       "      <td>300000.0</td>\n",
       "      <td>1.0</td>\n",
       "      <td>8.571429</td>\n",
       "    </tr>\n",
       "    <tr>\n",
       "      <th>2824</th>\n",
       "      <td>17050</td>\n",
       "      <td>14.27</td>\n",
       "      <td>584.97</td>\n",
       "      <td>7</td>\n",
       "      <td>40800.0</td>\n",
       "      <td>1.0</td>\n",
       "      <td>2.392962</td>\n",
       "    </tr>\n",
       "    <tr>\n",
       "      <th>32620</th>\n",
       "      <td>7000</td>\n",
       "      <td>18.09</td>\n",
       "      <td>253.37</td>\n",
       "      <td>2</td>\n",
       "      <td>41000.0</td>\n",
       "      <td>1.0</td>\n",
       "      <td>5.857143</td>\n",
       "    </tr>\n",
       "    <tr>\n",
       "      <th>25571</th>\n",
       "      <td>10875</td>\n",
       "      <td>7.14</td>\n",
       "      <td>336.49</td>\n",
       "      <td>1</td>\n",
       "      <td>124800.0</td>\n",
       "      <td>1.0</td>\n",
       "      <td>11.475862</td>\n",
       "    </tr>\n",
       "    <tr>\n",
       "      <th>12855</th>\n",
       "      <td>4000</td>\n",
       "      <td>6.99</td>\n",
       "      <td>123.50</td>\n",
       "      <td>5</td>\n",
       "      <td>60000.0</td>\n",
       "      <td>1.0</td>\n",
       "      <td>15.000000</td>\n",
       "    </tr>\n",
       "  </tbody>\n",
       "</table>\n",
       "</div>"
      ],
      "text/plain": [
       "       loan_amnt  int_rate  installment  emp_length  annual_inc  fund_perc  \\\n",
       "7368       35000     10.59      1139.08          10    300000.0        1.0   \n",
       "2824       17050     14.27       584.97           7     40800.0        1.0   \n",
       "32620       7000     18.09       253.37           2     41000.0        1.0   \n",
       "25571      10875      7.14       336.49           1    124800.0        1.0   \n",
       "12855       4000      6.99       123.50           5     60000.0        1.0   \n",
       "\n",
       "       incToloan_perc  \n",
       "7368         8.571429  \n",
       "2824         2.392962  \n",
       "32620        5.857143  \n",
       "25571       11.475862  \n",
       "12855       15.000000  "
      ]
     },
     "execution_count": 39,
     "metadata": {},
     "output_type": "execute_result"
    }
   ],
   "source": [
    "X_train.head()"
   ]
  },
  {
   "cell_type": "code",
   "execution_count": 42,
   "metadata": {},
   "outputs": [
    {
     "data": {
      "text/plain": [
       "array([ 3.17366394, -0.38929729,  3.87099549,  1.4380346 ,  3.56190741,\n",
       "        0.20639906, -0.02535892])"
      ]
     },
     "execution_count": 42,
     "metadata": {},
     "output_type": "execute_result"
    }
   ],
   "source": [
    "X_train_scaled[0]"
   ]
  },
  {
   "cell_type": "markdown",
   "metadata": {},
   "source": [
    "## <b> Model Building"
   ]
  },
  {
   "cell_type": "code",
   "execution_count": null,
   "metadata": {},
   "outputs": [],
   "source": [
    "from sklearn.linear_model import LogisticRegression \n",
    "from sklearn.multiclass import OneVsRestClassifier, OneVsOneClassifier\n",
    "from sklearn.svm import SVC\n",
    "from sklearn.metrics import accuracy_score, classification_report\n",
    "from sklearn.model_selection import train_test_split\n",
    "import warnings"
   ]
  },
  {
   "cell_type": "code",
   "execution_count": 24,
   "metadata": {},
   "outputs": [],
   "source": [
    "from sklearn.linear_model import LogisticRegression\n",
    "from sklearn.multiclass import OneVsOneClassifier, OneVsRestClassifier\n",
    "from sklearn.metrics import accuracy_score, classification_report\n",
    "import warnings\n",
    "warnings.filterwarnings('ignore')"
   ]
  },
  {
   "cell_type": "code",
   "execution_count": 25,
   "metadata": {},
   "outputs": [
    {
     "data": {
      "text/html": [
       "<style>#sk-container-id-1 {color: black;background-color: white;}#sk-container-id-1 pre{padding: 0;}#sk-container-id-1 div.sk-toggleable {background-color: white;}#sk-container-id-1 label.sk-toggleable__label {cursor: pointer;display: block;width: 100%;margin-bottom: 0;padding: 0.3em;box-sizing: border-box;text-align: center;}#sk-container-id-1 label.sk-toggleable__label-arrow:before {content: \"▸\";float: left;margin-right: 0.25em;color: #696969;}#sk-container-id-1 label.sk-toggleable__label-arrow:hover:before {color: black;}#sk-container-id-1 div.sk-estimator:hover label.sk-toggleable__label-arrow:before {color: black;}#sk-container-id-1 div.sk-toggleable__content {max-height: 0;max-width: 0;overflow: hidden;text-align: left;background-color: #f0f8ff;}#sk-container-id-1 div.sk-toggleable__content pre {margin: 0.2em;color: black;border-radius: 0.25em;background-color: #f0f8ff;}#sk-container-id-1 input.sk-toggleable__control:checked~div.sk-toggleable__content {max-height: 200px;max-width: 100%;overflow: auto;}#sk-container-id-1 input.sk-toggleable__control:checked~label.sk-toggleable__label-arrow:before {content: \"▾\";}#sk-container-id-1 div.sk-estimator input.sk-toggleable__control:checked~label.sk-toggleable__label {background-color: #d4ebff;}#sk-container-id-1 div.sk-label input.sk-toggleable__control:checked~label.sk-toggleable__label {background-color: #d4ebff;}#sk-container-id-1 input.sk-hidden--visually {border: 0;clip: rect(1px 1px 1px 1px);clip: rect(1px, 1px, 1px, 1px);height: 1px;margin: -1px;overflow: hidden;padding: 0;position: absolute;width: 1px;}#sk-container-id-1 div.sk-estimator {font-family: monospace;background-color: #f0f8ff;border: 1px dotted black;border-radius: 0.25em;box-sizing: border-box;margin-bottom: 0.5em;}#sk-container-id-1 div.sk-estimator:hover {background-color: #d4ebff;}#sk-container-id-1 div.sk-parallel-item::after {content: \"\";width: 100%;border-bottom: 1px solid gray;flex-grow: 1;}#sk-container-id-1 div.sk-label:hover label.sk-toggleable__label {background-color: #d4ebff;}#sk-container-id-1 div.sk-serial::before {content: \"\";position: absolute;border-left: 1px solid gray;box-sizing: border-box;top: 0;bottom: 0;left: 50%;z-index: 0;}#sk-container-id-1 div.sk-serial {display: flex;flex-direction: column;align-items: center;background-color: white;padding-right: 0.2em;padding-left: 0.2em;position: relative;}#sk-container-id-1 div.sk-item {position: relative;z-index: 1;}#sk-container-id-1 div.sk-parallel {display: flex;align-items: stretch;justify-content: center;background-color: white;position: relative;}#sk-container-id-1 div.sk-item::before, #sk-container-id-1 div.sk-parallel-item::before {content: \"\";position: absolute;border-left: 1px solid gray;box-sizing: border-box;top: 0;bottom: 0;left: 50%;z-index: -1;}#sk-container-id-1 div.sk-parallel-item {display: flex;flex-direction: column;z-index: 1;position: relative;background-color: white;}#sk-container-id-1 div.sk-parallel-item:first-child::after {align-self: flex-end;width: 50%;}#sk-container-id-1 div.sk-parallel-item:last-child::after {align-self: flex-start;width: 50%;}#sk-container-id-1 div.sk-parallel-item:only-child::after {width: 0;}#sk-container-id-1 div.sk-dashed-wrapped {border: 1px dashed gray;margin: 0 0.4em 0.5em 0.4em;box-sizing: border-box;padding-bottom: 0.4em;background-color: white;}#sk-container-id-1 div.sk-label label {font-family: monospace;font-weight: bold;display: inline-block;line-height: 1.2em;}#sk-container-id-1 div.sk-label-container {text-align: center;}#sk-container-id-1 div.sk-container {/* jupyter's `normalize.less` sets `[hidden] { display: none; }` but bootstrap.min.css set `[hidden] { display: none !important; }` so we also need the `!important` here to be able to override the default hidden behavior on the sphinx rendered scikit-learn.org. See: https://github.com/scikit-learn/scikit-learn/issues/21755 */display: inline-block !important;position: relative;}#sk-container-id-1 div.sk-text-repr-fallback {display: none;}</style><div id=\"sk-container-id-1\" class=\"sk-top-container\"><div class=\"sk-text-repr-fallback\"><pre>OneVsRestClassifier(estimator=LogisticRegression())</pre><b>In a Jupyter environment, please rerun this cell to show the HTML representation or trust the notebook. <br />On GitHub, the HTML representation is unable to render, please try loading this page with nbviewer.org.</b></div><div class=\"sk-container\" hidden><div class=\"sk-item sk-dashed-wrapped\"><div class=\"sk-label-container\"><div class=\"sk-label sk-toggleable\"><input class=\"sk-toggleable__control sk-hidden--visually\" id=\"sk-estimator-id-1\" type=\"checkbox\" ><label for=\"sk-estimator-id-1\" class=\"sk-toggleable__label sk-toggleable__label-arrow\">OneVsRestClassifier</label><div class=\"sk-toggleable__content\"><pre>OneVsRestClassifier(estimator=LogisticRegression())</pre></div></div></div><div class=\"sk-parallel\"><div class=\"sk-parallel-item\"><div class=\"sk-item\"><div class=\"sk-label-container\"><div class=\"sk-label sk-toggleable\"><input class=\"sk-toggleable__control sk-hidden--visually\" id=\"sk-estimator-id-2\" type=\"checkbox\" ><label for=\"sk-estimator-id-2\" class=\"sk-toggleable__label sk-toggleable__label-arrow\">estimator: LogisticRegression</label><div class=\"sk-toggleable__content\"><pre>LogisticRegression()</pre></div></div></div><div class=\"sk-serial\"><div class=\"sk-item\"><div class=\"sk-estimator sk-toggleable\"><input class=\"sk-toggleable__control sk-hidden--visually\" id=\"sk-estimator-id-3\" type=\"checkbox\" ><label for=\"sk-estimator-id-3\" class=\"sk-toggleable__label sk-toggleable__label-arrow\">LogisticRegression</label><div class=\"sk-toggleable__content\"><pre>LogisticRegression()</pre></div></div></div></div></div></div></div></div></div></div>"
      ],
      "text/plain": [
       "OneVsRestClassifier(estimator=LogisticRegression())"
      ]
     },
     "execution_count": 25,
     "metadata": {},
     "output_type": "execute_result"
    }
   ],
   "source": [
    "\n",
    "# Building a classification model using one vs rest method\n",
    "LR = LogisticRegression()\n",
    "oneVsrest = OneVsRestClassifier(estimator=LR)\n",
    "# Fitting the model with training data\n",
    "oneVsrest.fit(X_train_scaled,y_train)"
   ]
  },
  {
   "cell_type": "markdown",
   "metadata": {},
   "source": [
    "## <b>Step 3 : </b>\n",
    "<b> Model Prediction </b>"
   ]
  },
  {
   "cell_type": "code",
   "execution_count": null,
   "metadata": {},
   "outputs": [],
   "source": []
  },
  {
   "cell_type": "code",
   "execution_count": 27,
   "metadata": {},
   "outputs": [
    {
     "name": "stdout",
     "output_type": "stream",
     "text": [
      "The accuracy score: 82.88622444578625%\n",
      "\n",
      "\n",
      "The Classification Report: \n",
      "\n",
      "              precision    recall  f1-score   support\n",
      "\n",
      "   High Risk       0.56      0.01      0.01      1654\n",
      "    Low Risk       0.83      1.00      0.91      9607\n",
      " Medium Risk       0.20      0.00      0.01       332\n",
      "\n",
      "    accuracy                           0.83     11593\n",
      "   macro avg       0.53      0.34      0.31     11593\n",
      "weighted avg       0.77      0.83      0.75     11593\n",
      "\n"
     ]
    }
   ],
   "source": [
    "# Making a prediction on the test set\n",
    "predction_oneVsrest = oneVsrest.predict(X_test_scaled)\n",
    "   \n",
    "# Evaluating the model\n",
    "print(f\"The accuracy score: {accuracy_score(y_test,predction_oneVsrest)*100}%\\n\\n\")\n",
    "print(f\"The Classification Report: \\n\\n{classification_report(y_test,predction_oneVsrest)}\")"
   ]
  },
  {
   "cell_type": "markdown",
   "metadata": {},
   "source": [
    "<b> Accuracy : </b> Accuracy is the most intuitive performance measure and it is simply a ratio of correctly predicted observation to the total observations.The formula is given as: <br>\n",
    "<b> *Accuracy = True Positives + True Negatives/True Positives+False Positives+False Negatives+True Positives* </b> <br> <br>\n",
    "<b> Precision : </b> The quality of being exact and refers to how close two or more measurements are to each other, regardless of whether those measurements are accurate or not. The formula is : <br>\n",
    "<b> *Precision = True Positives / (True Positives + False Positives)* </b> <br> <br>\n",
    "<b> Recall : </b> It is calculated as the number of true positives divided by the total number of true positives and false negatives. The result is a value between 0.0 for no recall and 1.0 for full or perfect recall. The formula is : <br>\n",
    "<b> *Recall = True Positives / (True Positives + False Negatives)* </b> <br> <br>\n",
    "<b> F1 score : </b> F1 Score is the weighted average of Precision and Recall. Therefore, this score takes both false positives and false negatives into account.The highest possible value of an F-score is 1.0, indicating perfect precision and recall, and the lowest possible value is 0, if either the precision or the recall is zero. The formula is : <br>\n",
    "<b> *F1 score = 2\\*((precision\\*recall)/(precision+recall))* </b> <br> <br>"
   ]
  },
  {
   "cell_type": "markdown",
   "metadata": {},
   "source": [
    "## <b>Analysing the probabilties and classification values </b>"
   ]
  },
  {
   "cell_type": "code",
   "execution_count": null,
   "metadata": {},
   "outputs": [],
   "source": [
    "# Adding followig variables to the test dataset\n",
    "\n",
    "#Scaled feature array\n",
    "\n",
    "#Actual target variable\n",
    "\n",
    "\n",
    "#OnevsRest target prediction\n",
    "\n",
    "\n",
    "#OnevsRest probability prediction\n",
    "\n",
    "#OnevsRest individual class prediction probabilities\n",
    "\n"
   ]
  },
  {
   "cell_type": "code",
   "execution_count": 33,
   "metadata": {},
   "outputs": [],
   "source": [
    "#Scaled feature array\n",
    "X_test['Scaled_features'] = X_test_scaled.tolist()\n"
   ]
  },
  {
   "cell_type": "code",
   "execution_count": 34,
   "metadata": {},
   "outputs": [],
   "source": [
    "#Actual target variable\n",
    "X_test['Actual'] = y_test"
   ]
  },
  {
   "cell_type": "code",
   "execution_count": 35,
   "metadata": {},
   "outputs": [],
   "source": [
    "#OnevsRest target prediction\n",
    "X_test['predction_oneVsrest'] = predction_oneVsrest"
   ]
  },
  {
   "cell_type": "code",
   "execution_count": 36,
   "metadata": {},
   "outputs": [],
   "source": [
    "#OnevsRest probability prediction\n",
    "X_test['prob_pred_oneVsrest'] = oneVsrest.predict_proba(X_test_scaled).tolist()"
   ]
  },
  {
   "cell_type": "code",
   "execution_count": 37,
   "metadata": {},
   "outputs": [],
   "source": [
    "X_test['prob_pred_oneVsrest_highRisk'] = oneVsrest.predict_proba(X_test_scaled)[:,0].tolist()\n",
    "X_test['prob_pred_oneVsrest_lowRisk'] = oneVsrest.predict_proba(X_test_scaled)[:,1].tolist()\n",
    "X_test['prob_pred_oneVsrest_mediumRisk'] = oneVsrest.predict_proba(X_test_scaled)[:,2].tolist()"
   ]
  },
  {
   "cell_type": "code",
   "execution_count": 38,
   "metadata": {},
   "outputs": [
    {
     "data": {
      "text/html": [
       "<div>\n",
       "<style scoped>\n",
       "    .dataframe tbody tr th:only-of-type {\n",
       "        vertical-align: middle;\n",
       "    }\n",
       "\n",
       "    .dataframe tbody tr th {\n",
       "        vertical-align: top;\n",
       "    }\n",
       "\n",
       "    .dataframe thead th {\n",
       "        text-align: right;\n",
       "    }\n",
       "</style>\n",
       "<table border=\"1\" class=\"dataframe\">\n",
       "  <thead>\n",
       "    <tr style=\"text-align: right;\">\n",
       "      <th></th>\n",
       "      <th>loan_amnt</th>\n",
       "      <th>int_rate</th>\n",
       "      <th>installment</th>\n",
       "      <th>emp_length</th>\n",
       "      <th>annual_inc</th>\n",
       "      <th>fund_perc</th>\n",
       "      <th>incToloan_perc</th>\n",
       "      <th>Scaled_features</th>\n",
       "      <th>Actual</th>\n",
       "      <th>predction_oneVsrest</th>\n",
       "      <th>prob_pred_oneVsrest</th>\n",
       "      <th>prob_pred_oneVsrest_highRisk</th>\n",
       "      <th>prob_pred_oneVsrest_lowRisk</th>\n",
       "      <th>prob_pred_oneVsrest_mediumRisk</th>\n",
       "    </tr>\n",
       "  </thead>\n",
       "  <tbody>\n",
       "    <tr>\n",
       "      <th>17614</th>\n",
       "      <td>25000</td>\n",
       "      <td>16.77</td>\n",
       "      <td>888.46</td>\n",
       "      <td>1</td>\n",
       "      <td>104000.0</td>\n",
       "      <td>1.0</td>\n",
       "      <td>4.160000</td>\n",
       "      <td>[1.8371293187309605, 1.2736784709856193, 2.678...</td>\n",
       "      <td>Low Risk</td>\n",
       "      <td>Low Risk</td>\n",
       "      <td>[0.13525218042334336, 0.8646560093263703, 9.18...</td>\n",
       "      <td>0.135252</td>\n",
       "      <td>0.864656</td>\n",
       "      <td>0.000092</td>\n",
       "    </tr>\n",
       "    <tr>\n",
       "      <th>3728</th>\n",
       "      <td>3600</td>\n",
       "      <td>7.51</td>\n",
       "      <td>112.00</td>\n",
       "      <td>2</td>\n",
       "      <td>31800.0</td>\n",
       "      <td>1.0</td>\n",
       "      <td>8.833333</td>\n",
       "      <td>[-1.0230547720561989, -1.2180942746831072, -1....</td>\n",
       "      <td>Low Risk</td>\n",
       "      <td>Low Risk</td>\n",
       "      <td>[0.07646369886774129, 0.9198189437044249, 0.00...</td>\n",
       "      <td>0.076464</td>\n",
       "      <td>0.919819</td>\n",
       "      <td>0.003717</td>\n",
       "    </tr>\n",
       "    <tr>\n",
       "      <th>37880</th>\n",
       "      <td>9000</td>\n",
       "      <td>11.97</td>\n",
       "      <td>298.80</td>\n",
       "      <td>2</td>\n",
       "      <td>57500.0</td>\n",
       "      <td>1.0</td>\n",
       "      <td>6.388889</td>\n",
       "      <td>[-0.30132607625009317, -0.017953189836182465, ...</td>\n",
       "      <td>Low Risk</td>\n",
       "      <td>Low Risk</td>\n",
       "      <td>[0.11704339245013134, 0.8793929925447622, 0.00...</td>\n",
       "      <td>0.117043</td>\n",
       "      <td>0.879393</td>\n",
       "      <td>0.003564</td>\n",
       "    </tr>\n",
       "    <tr>\n",
       "      <th>33951</th>\n",
       "      <td>17000</td>\n",
       "      <td>12.18</td>\n",
       "      <td>566.10</td>\n",
       "      <td>10</td>\n",
       "      <td>63504.0</td>\n",
       "      <td>1.0</td>\n",
       "      <td>3.735529</td>\n",
       "      <td>[0.7679016212404337, 0.03855569532477113, 1.14...</td>\n",
       "      <td>High Risk</td>\n",
       "      <td>Low Risk</td>\n",
       "      <td>[0.12153136815366945, 0.8774707772578078, 0.00...</td>\n",
       "      <td>0.121531</td>\n",
       "      <td>0.877471</td>\n",
       "      <td>0.000998</td>\n",
       "    </tr>\n",
       "    <tr>\n",
       "      <th>982</th>\n",
       "      <td>5500</td>\n",
       "      <td>14.27</td>\n",
       "      <td>188.70</td>\n",
       "      <td>5</td>\n",
       "      <td>24000.0</td>\n",
       "      <td>1.0</td>\n",
       "      <td>4.363636</td>\n",
       "      <td>[-0.7691131939021987, 0.6009536476409307, -0.6...</td>\n",
       "      <td>Low Risk</td>\n",
       "      <td>Low Risk</td>\n",
       "      <td>[0.1950597179719298, 0.7912622431036757, 0.013...</td>\n",
       "      <td>0.195060</td>\n",
       "      <td>0.791262</td>\n",
       "      <td>0.013678</td>\n",
       "    </tr>\n",
       "  </tbody>\n",
       "</table>\n",
       "</div>"
      ],
      "text/plain": [
       "       loan_amnt  int_rate  installment  emp_length  annual_inc  fund_perc  \\\n",
       "17614      25000     16.77       888.46           1    104000.0        1.0   \n",
       "3728        3600      7.51       112.00           2     31800.0        1.0   \n",
       "37880       9000     11.97       298.80           2     57500.0        1.0   \n",
       "33951      17000     12.18       566.10          10     63504.0        1.0   \n",
       "982         5500     14.27       188.70           5     24000.0        1.0   \n",
       "\n",
       "       incToloan_perc                                    Scaled_features  \\\n",
       "17614        4.160000  [1.8371293187309605, 1.2736784709856193, 2.678...   \n",
       "3728         8.833333  [-1.0230547720561989, -1.2180942746831072, -1....   \n",
       "37880        6.388889  [-0.30132607625009317, -0.017953189836182465, ...   \n",
       "33951        3.735529  [0.7679016212404337, 0.03855569532477113, 1.14...   \n",
       "982          4.363636  [-0.7691131939021987, 0.6009536476409307, -0.6...   \n",
       "\n",
       "          Actual predction_oneVsrest  \\\n",
       "17614   Low Risk            Low Risk   \n",
       "3728    Low Risk            Low Risk   \n",
       "37880   Low Risk            Low Risk   \n",
       "33951  High Risk            Low Risk   \n",
       "982     Low Risk            Low Risk   \n",
       "\n",
       "                                     prob_pred_oneVsrest  \\\n",
       "17614  [0.13525218042334336, 0.8646560093263703, 9.18...   \n",
       "3728   [0.07646369886774129, 0.9198189437044249, 0.00...   \n",
       "37880  [0.11704339245013134, 0.8793929925447622, 0.00...   \n",
       "33951  [0.12153136815366945, 0.8774707772578078, 0.00...   \n",
       "982    [0.1950597179719298, 0.7912622431036757, 0.013...   \n",
       "\n",
       "       prob_pred_oneVsrest_highRisk  prob_pred_oneVsrest_lowRisk  \\\n",
       "17614                      0.135252                     0.864656   \n",
       "3728                       0.076464                     0.919819   \n",
       "37880                      0.117043                     0.879393   \n",
       "33951                      0.121531                     0.877471   \n",
       "982                        0.195060                     0.791262   \n",
       "\n",
       "       prob_pred_oneVsrest_mediumRisk  \n",
       "17614                        0.000092  \n",
       "3728                         0.003717  \n",
       "37880                        0.003564  \n",
       "33951                        0.000998  \n",
       "982                          0.013678  "
      ]
     },
     "execution_count": 38,
     "metadata": {},
     "output_type": "execute_result"
    }
   ],
   "source": [
    "X_test.head()"
   ]
  },
  {
   "cell_type": "code",
   "execution_count": 79,
   "metadata": {},
   "outputs": [
    {
     "data": {
      "text/plain": [
       "array(['Low Risk', 'Medium Risk', 'High Risk'], dtype=object)"
      ]
     },
     "execution_count": 79,
     "metadata": {},
     "output_type": "execute_result"
    }
   ],
   "source": [
    "X_test['predction_oneVsrest'].unique()"
   ]
  },
  {
   "cell_type": "markdown",
   "metadata": {},
   "source": [
    "## <b>Display the coefficient and intercept values for each Logistic Regression model </b>"
   ]
  },
  {
   "cell_type": "code",
   "execution_count": null,
   "metadata": {},
   "outputs": [],
   "source": [
    "# Classes for which individual models are created\n",
    "\n",
    "#Coefficient matrix for all the models created\n",
    "\n",
    "\n",
    "#Intercept values for all the models created\n",
    "\n",
    "\n",
    "#Coefficient values for all the models created\n"
   ]
  },
  {
   "cell_type": "code",
   "execution_count": 50,
   "metadata": {},
   "outputs": [
    {
     "data": {
      "text/plain": [
       "array(['High Risk', 'Low Risk', 'Medium Risk'], dtype='<U11')"
      ]
     },
     "execution_count": 50,
     "metadata": {},
     "output_type": "execute_result"
    }
   ],
   "source": [
    "# Classes for which individual models are created\n",
    "oneVsrest.classes_"
   ]
  },
  {
   "cell_type": "code",
   "execution_count": 61,
   "metadata": {},
   "outputs": [
    {
     "name": "stdout",
     "output_type": "stream",
     "text": [
      "Coefficient for each Binary Classifier: \n",
      "High Risk [-1.97140289]\n",
      "Low Risk [1.80477709]\n",
      "Medium Risk [-5.06997072]\n"
     ]
    }
   ],
   "source": [
    "#Intercept values for all the models created\n",
    "print('Coefficient for each Binary Classifier: ')\n",
    "for i,estimator in enumerate(oneVsrest.estimators_):\n",
    "    print(f\"{oneVsrest.classes_[i]} {estimator.intercept_}\")"
   ]
  },
  {
   "cell_type": "code",
   "execution_count": 58,
   "metadata": {},
   "outputs": [
    {
     "data": {
      "text/html": [
       "<style>#sk-container-id-2 {color: black;background-color: white;}#sk-container-id-2 pre{padding: 0;}#sk-container-id-2 div.sk-toggleable {background-color: white;}#sk-container-id-2 label.sk-toggleable__label {cursor: pointer;display: block;width: 100%;margin-bottom: 0;padding: 0.3em;box-sizing: border-box;text-align: center;}#sk-container-id-2 label.sk-toggleable__label-arrow:before {content: \"▸\";float: left;margin-right: 0.25em;color: #696969;}#sk-container-id-2 label.sk-toggleable__label-arrow:hover:before {color: black;}#sk-container-id-2 div.sk-estimator:hover label.sk-toggleable__label-arrow:before {color: black;}#sk-container-id-2 div.sk-toggleable__content {max-height: 0;max-width: 0;overflow: hidden;text-align: left;background-color: #f0f8ff;}#sk-container-id-2 div.sk-toggleable__content pre {margin: 0.2em;color: black;border-radius: 0.25em;background-color: #f0f8ff;}#sk-container-id-2 input.sk-toggleable__control:checked~div.sk-toggleable__content {max-height: 200px;max-width: 100%;overflow: auto;}#sk-container-id-2 input.sk-toggleable__control:checked~label.sk-toggleable__label-arrow:before {content: \"▾\";}#sk-container-id-2 div.sk-estimator input.sk-toggleable__control:checked~label.sk-toggleable__label {background-color: #d4ebff;}#sk-container-id-2 div.sk-label input.sk-toggleable__control:checked~label.sk-toggleable__label {background-color: #d4ebff;}#sk-container-id-2 input.sk-hidden--visually {border: 0;clip: rect(1px 1px 1px 1px);clip: rect(1px, 1px, 1px, 1px);height: 1px;margin: -1px;overflow: hidden;padding: 0;position: absolute;width: 1px;}#sk-container-id-2 div.sk-estimator {font-family: monospace;background-color: #f0f8ff;border: 1px dotted black;border-radius: 0.25em;box-sizing: border-box;margin-bottom: 0.5em;}#sk-container-id-2 div.sk-estimator:hover {background-color: #d4ebff;}#sk-container-id-2 div.sk-parallel-item::after {content: \"\";width: 100%;border-bottom: 1px solid gray;flex-grow: 1;}#sk-container-id-2 div.sk-label:hover label.sk-toggleable__label {background-color: #d4ebff;}#sk-container-id-2 div.sk-serial::before {content: \"\";position: absolute;border-left: 1px solid gray;box-sizing: border-box;top: 0;bottom: 0;left: 50%;z-index: 0;}#sk-container-id-2 div.sk-serial {display: flex;flex-direction: column;align-items: center;background-color: white;padding-right: 0.2em;padding-left: 0.2em;position: relative;}#sk-container-id-2 div.sk-item {position: relative;z-index: 1;}#sk-container-id-2 div.sk-parallel {display: flex;align-items: stretch;justify-content: center;background-color: white;position: relative;}#sk-container-id-2 div.sk-item::before, #sk-container-id-2 div.sk-parallel-item::before {content: \"\";position: absolute;border-left: 1px solid gray;box-sizing: border-box;top: 0;bottom: 0;left: 50%;z-index: -1;}#sk-container-id-2 div.sk-parallel-item {display: flex;flex-direction: column;z-index: 1;position: relative;background-color: white;}#sk-container-id-2 div.sk-parallel-item:first-child::after {align-self: flex-end;width: 50%;}#sk-container-id-2 div.sk-parallel-item:last-child::after {align-self: flex-start;width: 50%;}#sk-container-id-2 div.sk-parallel-item:only-child::after {width: 0;}#sk-container-id-2 div.sk-dashed-wrapped {border: 1px dashed gray;margin: 0 0.4em 0.5em 0.4em;box-sizing: border-box;padding-bottom: 0.4em;background-color: white;}#sk-container-id-2 div.sk-label label {font-family: monospace;font-weight: bold;display: inline-block;line-height: 1.2em;}#sk-container-id-2 div.sk-label-container {text-align: center;}#sk-container-id-2 div.sk-container {/* jupyter's `normalize.less` sets `[hidden] { display: none; }` but bootstrap.min.css set `[hidden] { display: none !important; }` so we also need the `!important` here to be able to override the default hidden behavior on the sphinx rendered scikit-learn.org. See: https://github.com/scikit-learn/scikit-learn/issues/21755 */display: inline-block !important;position: relative;}#sk-container-id-2 div.sk-text-repr-fallback {display: none;}</style><div id=\"sk-container-id-2\" class=\"sk-top-container\"><div class=\"sk-text-repr-fallback\"><pre>OneVsRestClassifier(estimator=LogisticRegression())</pre><b>In a Jupyter environment, please rerun this cell to show the HTML representation or trust the notebook. <br />On GitHub, the HTML representation is unable to render, please try loading this page with nbviewer.org.</b></div><div class=\"sk-container\" hidden><div class=\"sk-item sk-dashed-wrapped\"><div class=\"sk-label-container\"><div class=\"sk-label sk-toggleable\"><input class=\"sk-toggleable__control sk-hidden--visually\" id=\"sk-estimator-id-4\" type=\"checkbox\" ><label for=\"sk-estimator-id-4\" class=\"sk-toggleable__label sk-toggleable__label-arrow\">OneVsRestClassifier</label><div class=\"sk-toggleable__content\"><pre>OneVsRestClassifier(estimator=LogisticRegression())</pre></div></div></div><div class=\"sk-parallel\"><div class=\"sk-parallel-item\"><div class=\"sk-item\"><div class=\"sk-label-container\"><div class=\"sk-label sk-toggleable\"><input class=\"sk-toggleable__control sk-hidden--visually\" id=\"sk-estimator-id-5\" type=\"checkbox\" ><label for=\"sk-estimator-id-5\" class=\"sk-toggleable__label sk-toggleable__label-arrow\">estimator: LogisticRegression</label><div class=\"sk-toggleable__content\"><pre>LogisticRegression()</pre></div></div></div><div class=\"sk-serial\"><div class=\"sk-item\"><div class=\"sk-estimator sk-toggleable\"><input class=\"sk-toggleable__control sk-hidden--visually\" id=\"sk-estimator-id-6\" type=\"checkbox\" ><label for=\"sk-estimator-id-6\" class=\"sk-toggleable__label sk-toggleable__label-arrow\">LogisticRegression</label><div class=\"sk-toggleable__content\"><pre>LogisticRegression()</pre></div></div></div></div></div></div></div></div></div></div>"
      ],
      "text/plain": [
       "OneVsRestClassifier(estimator=LogisticRegression())"
      ]
     },
     "execution_count": 58,
     "metadata": {},
     "output_type": "execute_result"
    }
   ],
   "source": [
    "oneVsrest"
   ]
  },
  {
   "cell_type": "code",
   "execution_count": 65,
   "metadata": {},
   "outputs": [
    {
     "data": {
      "text/plain": [
       "sklearn.multiclass.OneVsRestClassifier"
      ]
     },
     "execution_count": 65,
     "metadata": {},
     "output_type": "execute_result"
    }
   ],
   "source": [
    "type(oneVsrest)"
   ]
  },
  {
   "cell_type": "code",
   "execution_count": 63,
   "metadata": {},
   "outputs": [
    {
     "name": "stdout",
     "output_type": "stream",
     "text": [
      "[[ 0.43258834  0.56140827 -0.41564408  0.04909449 -0.3767037   0.0423191\n",
      "  -0.00791024]\n",
      " [-1.162999   -0.61923122  1.13533291 -0.0702036   0.2797535  -0.21102854\n",
      "   0.08366904]\n",
      " [ 4.80649703  0.98055294 -5.47052603  0.15622182  0.17946747  1.28370612\n",
      "  -0.62392508]]\n"
     ]
    }
   ],
   "source": [
    "#Coefficient matrix for all the models created\n",
    "Coefficient_matrix  = np.vstack([estimator.coef_ for estimator in oneVsrest.estimators_])\n",
    "print(Coefficient_matrix)"
   ]
  },
  {
   "cell_type": "code",
   "execution_count": 64,
   "metadata": {},
   "outputs": [
    {
     "data": {
      "text/plain": [
       "(3, 7)"
      ]
     },
     "execution_count": 64,
     "metadata": {},
     "output_type": "execute_result"
    }
   ],
   "source": [
    "Coefficient_matrix.shape"
   ]
  },
  {
   "cell_type": "markdown",
   "metadata": {},
   "source": [
    "## <b>Analyse probability values for one test sample</b>"
   ]
  },
  {
   "cell_type": "code",
   "execution_count": null,
   "metadata": {},
   "outputs": [],
   "source": []
  },
  {
   "cell_type": "markdown",
   "metadata": {},
   "source": [
    "## <b>Understand the mathematics and calculations inside the Model </b>"
   ]
  },
  {
   "cell_type": "code",
   "execution_count": 66,
   "metadata": {},
   "outputs": [
    {
     "data": {
      "text/plain": [
       "Index(['loan_amnt', 'int_rate', 'installment', 'emp_length', 'annual_inc',\n",
       "       'fund_perc', 'incToloan_perc', 'Scaled_features', 'Actual',\n",
       "       'predction_oneVsrest', 'prob_pred_oneVsrest',\n",
       "       'prob_pred_oneVsrest_highRisk', 'prob_pred_oneVsrest_lowRisk',\n",
       "       'prob_pred_oneVsrest_mediumRisk'],\n",
       "      dtype='object')"
      ]
     },
     "execution_count": 66,
     "metadata": {},
     "output_type": "execute_result"
    }
   ],
   "source": [
    "X_test.columns"
   ]
  },
  {
   "cell_type": "code",
   "execution_count": null,
   "metadata": {},
   "outputs": [],
   "source": [
    "#Below example demonstrate the calculation of prediction probability for a observation in the dataset\n",
    "#The demonstartion uses coefficient values of each model for the calculation\n",
    "\n",
    "# Choose the first observation\n",
    "\n",
    "# Class calculates the log of odds value for a given class\n",
    "\n",
    "# Calculates the probability values given the log of odds\n",
    "\n",
    "\n",
    "#Non-normalized probability of all the classes\n",
    "\n",
    "\n",
    "#Normalized probability of all the classes\n"
   ]
  },
  {
   "cell_type": "code",
   "execution_count": 68,
   "metadata": {},
   "outputs": [],
   "source": [
    "# Choose the first observation\n",
    "arr = X_test.iloc[0]['Scaled_features']"
   ]
  },
  {
   "cell_type": "code",
   "execution_count": null,
   "metadata": {},
   "outputs": [],
   "source": [
    "# Class calculates the log of odds value for a given class"
   ]
  },
  {
   "cell_type": "code",
   "execution_count": null,
   "metadata": {},
   "outputs": [],
   "source": []
  },
  {
   "cell_type": "code",
   "execution_count": null,
   "metadata": {},
   "outputs": [],
   "source": []
  },
  {
   "cell_type": "code",
   "execution_count": null,
   "metadata": {},
   "outputs": [],
   "source": []
  },
  {
   "cell_type": "markdown",
   "metadata": {},
   "source": [
    "## <b> Building Logistic Regression Model and using it in One vs One Classifier </b>"
   ]
  },
  {
   "cell_type": "code",
   "execution_count": 70,
   "metadata": {},
   "outputs": [],
   "source": [
    "#Classification using OnevsOne method\n",
    "LR1 = LogisticRegression()\n",
    "oneVsone = OneVsOneClassifier(estimator=LogisticRegression())\n",
    "\n",
    "# Fitting the model with training data\n",
    "oneVsone.fit(X_train_scaled,y_train)\n",
    "\n",
    "   \n",
    "# Making a prediction on the test set\n",
    "prediction_oneVsone = oneVsone.predict(X_test_scaled)\n"
   ]
  },
  {
   "cell_type": "markdown",
   "metadata": {},
   "source": [
    "## <b> Model Prediction </b>"
   ]
  },
  {
   "cell_type": "code",
   "execution_count": 72,
   "metadata": {},
   "outputs": [
    {
     "name": "stdout",
     "output_type": "stream",
     "text": [
      "Test accuracy score: 82.85172086603984%\n",
      "\n",
      "\n",
      "classificatio report: \n",
      "\n",
      "               precision    recall  f1-score   support\n",
      "\n",
      "   High Risk       0.75      0.00      0.01      1654\n",
      "    Low Risk       0.83      1.00      0.91      9607\n",
      " Medium Risk       0.14      0.01      0.01       332\n",
      "\n",
      "    accuracy                           0.83     11593\n",
      "   macro avg       0.57      0.34      0.31     11593\n",
      "weighted avg       0.80      0.83      0.75     11593\n",
      "\n"
     ]
    }
   ],
   "source": [
    "# Evaluating the model\n",
    "print(f\"Test accuracy score: {accuracy_score(y_test,prediction_oneVsone)*100}%\\n\\n\")\n",
    "print(f\"classificatio report: \\n\\n {classification_report(y_test,prediction_oneVsone)}\")"
   ]
  },
  {
   "cell_type": "code",
   "execution_count": 73,
   "metadata": {},
   "outputs": [
    {
     "data": {
      "text/plain": [
       "Index(['loan_amnt', 'int_rate', 'installment', 'emp_length', 'annual_inc',\n",
       "       'fund_perc', 'incToloan_perc', 'Scaled_features', 'Actual',\n",
       "       'predction_oneVsrest', 'prob_pred_oneVsrest',\n",
       "       'prob_pred_oneVsrest_highRisk', 'prob_pred_oneVsrest_lowRisk',\n",
       "       'prob_pred_oneVsrest_mediumRisk'],\n",
       "      dtype='object')"
      ]
     },
     "execution_count": 73,
     "metadata": {},
     "output_type": "execute_result"
    }
   ],
   "source": [
    "X_test.columns"
   ]
  },
  {
   "cell_type": "markdown",
   "metadata": {},
   "source": [
    "## <b>Analysing the probabilties and classification values </b>"
   ]
  },
  {
   "cell_type": "code",
   "execution_count": 75,
   "metadata": {},
   "outputs": [
    {
     "data": {
      "text/html": [
       "<div>\n",
       "<style scoped>\n",
       "    .dataframe tbody tr th:only-of-type {\n",
       "        vertical-align: middle;\n",
       "    }\n",
       "\n",
       "    .dataframe tbody tr th {\n",
       "        vertical-align: top;\n",
       "    }\n",
       "\n",
       "    .dataframe thead th {\n",
       "        text-align: right;\n",
       "    }\n",
       "</style>\n",
       "<table border=\"1\" class=\"dataframe\">\n",
       "  <thead>\n",
       "    <tr style=\"text-align: right;\">\n",
       "      <th></th>\n",
       "      <th>loan_amnt</th>\n",
       "      <th>int_rate</th>\n",
       "      <th>installment</th>\n",
       "      <th>emp_length</th>\n",
       "      <th>annual_inc</th>\n",
       "      <th>fund_perc</th>\n",
       "      <th>incToloan_perc</th>\n",
       "      <th>Scaled_features</th>\n",
       "      <th>Actual</th>\n",
       "      <th>predction_oneVsrest</th>\n",
       "      <th>prob_pred_oneVsrest</th>\n",
       "      <th>prob_pred_oneVsrest_highRisk</th>\n",
       "      <th>prob_pred_oneVsrest_lowRisk</th>\n",
       "      <th>prob_pred_oneVsrest_mediumRisk</th>\n",
       "      <th>prediction_oneVsone</th>\n",
       "    </tr>\n",
       "  </thead>\n",
       "  <tbody>\n",
       "    <tr>\n",
       "      <th>17614</th>\n",
       "      <td>25000</td>\n",
       "      <td>16.77</td>\n",
       "      <td>888.46</td>\n",
       "      <td>1</td>\n",
       "      <td>104000.0</td>\n",
       "      <td>1.0</td>\n",
       "      <td>4.160000</td>\n",
       "      <td>[1.8371293187309605, 1.2736784709856193, 2.678...</td>\n",
       "      <td>Low Risk</td>\n",
       "      <td>Low Risk</td>\n",
       "      <td>[0.13525218042334336, 0.8646560093263703, 9.18...</td>\n",
       "      <td>0.135252</td>\n",
       "      <td>0.864656</td>\n",
       "      <td>0.000092</td>\n",
       "      <td>Low Risk</td>\n",
       "    </tr>\n",
       "    <tr>\n",
       "      <th>3728</th>\n",
       "      <td>3600</td>\n",
       "      <td>7.51</td>\n",
       "      <td>112.00</td>\n",
       "      <td>2</td>\n",
       "      <td>31800.0</td>\n",
       "      <td>1.0</td>\n",
       "      <td>8.833333</td>\n",
       "      <td>[-1.0230547720561989, -1.2180942746831072, -1....</td>\n",
       "      <td>Low Risk</td>\n",
       "      <td>Low Risk</td>\n",
       "      <td>[0.07646369886774129, 0.9198189437044249, 0.00...</td>\n",
       "      <td>0.076464</td>\n",
       "      <td>0.919819</td>\n",
       "      <td>0.003717</td>\n",
       "      <td>Low Risk</td>\n",
       "    </tr>\n",
       "    <tr>\n",
       "      <th>37880</th>\n",
       "      <td>9000</td>\n",
       "      <td>11.97</td>\n",
       "      <td>298.80</td>\n",
       "      <td>2</td>\n",
       "      <td>57500.0</td>\n",
       "      <td>1.0</td>\n",
       "      <td>6.388889</td>\n",
       "      <td>[-0.30132607625009317, -0.017953189836182465, ...</td>\n",
       "      <td>Low Risk</td>\n",
       "      <td>Low Risk</td>\n",
       "      <td>[0.11704339245013134, 0.8793929925447622, 0.00...</td>\n",
       "      <td>0.117043</td>\n",
       "      <td>0.879393</td>\n",
       "      <td>0.003564</td>\n",
       "      <td>Low Risk</td>\n",
       "    </tr>\n",
       "    <tr>\n",
       "      <th>33951</th>\n",
       "      <td>17000</td>\n",
       "      <td>12.18</td>\n",
       "      <td>566.10</td>\n",
       "      <td>10</td>\n",
       "      <td>63504.0</td>\n",
       "      <td>1.0</td>\n",
       "      <td>3.735529</td>\n",
       "      <td>[0.7679016212404337, 0.03855569532477113, 1.14...</td>\n",
       "      <td>High Risk</td>\n",
       "      <td>Low Risk</td>\n",
       "      <td>[0.12153136815366945, 0.8774707772578078, 0.00...</td>\n",
       "      <td>0.121531</td>\n",
       "      <td>0.877471</td>\n",
       "      <td>0.000998</td>\n",
       "      <td>Low Risk</td>\n",
       "    </tr>\n",
       "    <tr>\n",
       "      <th>982</th>\n",
       "      <td>5500</td>\n",
       "      <td>14.27</td>\n",
       "      <td>188.70</td>\n",
       "      <td>5</td>\n",
       "      <td>24000.0</td>\n",
       "      <td>1.0</td>\n",
       "      <td>4.363636</td>\n",
       "      <td>[-0.7691131939021987, 0.6009536476409307, -0.6...</td>\n",
       "      <td>Low Risk</td>\n",
       "      <td>Low Risk</td>\n",
       "      <td>[0.1950597179719298, 0.7912622431036757, 0.013...</td>\n",
       "      <td>0.195060</td>\n",
       "      <td>0.791262</td>\n",
       "      <td>0.013678</td>\n",
       "      <td>Low Risk</td>\n",
       "    </tr>\n",
       "  </tbody>\n",
       "</table>\n",
       "</div>"
      ],
      "text/plain": [
       "       loan_amnt  int_rate  installment  emp_length  annual_inc  fund_perc  \\\n",
       "17614      25000     16.77       888.46           1    104000.0        1.0   \n",
       "3728        3600      7.51       112.00           2     31800.0        1.0   \n",
       "37880       9000     11.97       298.80           2     57500.0        1.0   \n",
       "33951      17000     12.18       566.10          10     63504.0        1.0   \n",
       "982         5500     14.27       188.70           5     24000.0        1.0   \n",
       "\n",
       "       incToloan_perc                                    Scaled_features  \\\n",
       "17614        4.160000  [1.8371293187309605, 1.2736784709856193, 2.678...   \n",
       "3728         8.833333  [-1.0230547720561989, -1.2180942746831072, -1....   \n",
       "37880        6.388889  [-0.30132607625009317, -0.017953189836182465, ...   \n",
       "33951        3.735529  [0.7679016212404337, 0.03855569532477113, 1.14...   \n",
       "982          4.363636  [-0.7691131939021987, 0.6009536476409307, -0.6...   \n",
       "\n",
       "          Actual predction_oneVsrest  \\\n",
       "17614   Low Risk            Low Risk   \n",
       "3728    Low Risk            Low Risk   \n",
       "37880   Low Risk            Low Risk   \n",
       "33951  High Risk            Low Risk   \n",
       "982     Low Risk            Low Risk   \n",
       "\n",
       "                                     prob_pred_oneVsrest  \\\n",
       "17614  [0.13525218042334336, 0.8646560093263703, 9.18...   \n",
       "3728   [0.07646369886774129, 0.9198189437044249, 0.00...   \n",
       "37880  [0.11704339245013134, 0.8793929925447622, 0.00...   \n",
       "33951  [0.12153136815366945, 0.8774707772578078, 0.00...   \n",
       "982    [0.1950597179719298, 0.7912622431036757, 0.013...   \n",
       "\n",
       "       prob_pred_oneVsrest_highRisk  prob_pred_oneVsrest_lowRisk  \\\n",
       "17614                      0.135252                     0.864656   \n",
       "3728                       0.076464                     0.919819   \n",
       "37880                      0.117043                     0.879393   \n",
       "33951                      0.121531                     0.877471   \n",
       "982                        0.195060                     0.791262   \n",
       "\n",
       "       prob_pred_oneVsrest_mediumRisk prediction_oneVsone  \n",
       "17614                        0.000092            Low Risk  \n",
       "3728                         0.003717            Low Risk  \n",
       "37880                        0.003564            Low Risk  \n",
       "33951                        0.000998            Low Risk  \n",
       "982                          0.013678            Low Risk  "
      ]
     },
     "execution_count": 75,
     "metadata": {},
     "output_type": "execute_result"
    }
   ],
   "source": [
    "# Adding followig variables to the test dataset\n",
    "X_test['prediction_oneVsone'] = prediction_oneVsone\n",
    "#OnevsOne target prediction\n",
    "X_test.head()"
   ]
  },
  {
   "cell_type": "code",
   "execution_count": 81,
   "metadata": {},
   "outputs": [
    {
     "data": {
      "text/plain": [
       "predction_oneVsrest\n",
       "Low Risk       11572\n",
       "High Risk         16\n",
       "Medium Risk        5\n",
       "Name: count, dtype: int64"
      ]
     },
     "execution_count": 81,
     "metadata": {},
     "output_type": "execute_result"
    }
   ],
   "source": [
    "X_test['predction_oneVsrest'].value_counts()"
   ]
  },
  {
   "cell_type": "code",
   "execution_count": 82,
   "metadata": {},
   "outputs": [
    {
     "data": {
      "text/plain": [
       "Actual\n",
       "Low Risk       9607\n",
       "High Risk      1654\n",
       "Medium Risk     332\n",
       "Name: count, dtype: int64"
      ]
     },
     "execution_count": 82,
     "metadata": {},
     "output_type": "execute_result"
    }
   ],
   "source": [
    "X_test['Actual'].value_counts()"
   ]
  },
  {
   "cell_type": "markdown",
   "metadata": {},
   "source": [
    "## <b>Display the parameters and coefficients for each Logistic Regression model </b>"
   ]
  },
  {
   "cell_type": "code",
   "execution_count": null,
   "metadata": {},
   "outputs": [],
   "source": [
    "#OneVsOne.classes_"
   ]
  },
  {
   "cell_type": "code",
   "execution_count": 76,
   "metadata": {},
   "outputs": [
    {
     "data": {
      "text/plain": [
       "array(['High Risk', 'Low Risk', 'Medium Risk'], dtype=object)"
      ]
     },
     "execution_count": 76,
     "metadata": {},
     "output_type": "execute_result"
    }
   ],
   "source": [
    "oneVsone.classes_"
   ]
  },
  {
   "cell_type": "code",
   "execution_count": null,
   "metadata": {},
   "outputs": [],
   "source": []
  }
 ],
 "metadata": {
  "kernelspec": {
   "display_name": "Python 3 (ipykernel)",
   "language": "python",
   "name": "python3"
  },
  "language_info": {
   "codemirror_mode": {
    "name": "ipython",
    "version": 3
   },
   "file_extension": ".py",
   "mimetype": "text/x-python",
   "name": "python",
   "nbconvert_exporter": "python",
   "pygments_lexer": "ipython3",
   "version": "3.11.7"
  }
 },
 "nbformat": 4,
 "nbformat_minor": 4
}
